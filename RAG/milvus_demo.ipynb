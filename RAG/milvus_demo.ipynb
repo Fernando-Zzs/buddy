{
 "cells": [
  {
   "cell_type": "code",
   "execution_count": 6,
   "metadata": {},
   "outputs": [
    {
     "name": "stdout",
     "output_type": "stream",
     "text": [
      "page_content='{'title': '周一活动', 'content': {'9:00-10:00': {'活动': '晨练太极拳', '地点': '活动室'}, '10:30-11:30': {'活动': '园艺活动（菠菜种植）', '地点': '花园'}, '14:00-15:00': {'活动': '手工制作（睡眠香囊）', '地点': '手工室'}, '15:30-16:30': {'活动': '观看老电影', '地点': '影音室'}}}' metadata={'source': '/Users/apple/Documents/project/buddy/RAG/files/activity.json', 'seq_num': 1}\n",
      "page_content='{'title': '周二活动', 'content': {'9:00-10:00': {'活动': '八段锦（简化版）', '地点': '大厅'}, '10:30-11:30': {'活动': '书法练习', '地点': '书画室'}, '14:00-15:00': {'活动': '棋牌娱乐（象棋、围棋等）', '地点': '棋牌室'}, '15:30-16:30': {'活动': '养生讲座（春天养生1）', '地点': '会议室'}}}' metadata={'source': '/Users/apple/Documents/project/buddy/RAG/files/activity.json', 'seq_num': 2}\n",
      "page_content='{'title': '周三活动', 'content': {'9:00-10:00': {'活动': '手指操', '地点': '大厅'}, '10:30-11:30': {'活动': '唱歌活动（合唱、独唱）', '地点': '音乐室'}, '14:00-15:00': {'活动': '烘焙活动（西式糕点：蛋挞）', '地点': '备餐间'}, '15:30-16:30': {'活动': '观看戏曲表演', '地点': '影音室/大厅'}}}' metadata={'source': '/Users/apple/Documents/project/buddy/RAG/files/activity.json', 'seq_num': 3}\n",
      "page_content='{'title': '周四活动', 'content': {'9:00-10:00': {'活动': '坐式健身操', '地点': '活动室/大厅'}, '10:30-11:30': {'活动': '绘画活动（素描、水彩等）', '地点': '书画室'}, '14:00-15:00': {'活动': '读书会（分享读书心得）', '地点': '阅读室'}, '15:30-16:30': {'活动': '观看旅游纪录片（三亚）', '地点': '影音室'}}}' metadata={'source': '/Users/apple/Documents/project/buddy/RAG/files/activity.json', 'seq_num': 4}\n",
      "page_content='{'title': '周五活动', 'content': {'9:00-10:00': {'活动': '健身操（挖呀挖 科目三）', '地点': '活动室/大厅'}, '10:30-11:30': {'活动': '记忆阅读', '地点': '怀旧室'}, '14:00-15:00': {'活动': '智能手机使用（微信）', '地点': '会议室'}, '15:30-16:30': {'活动': '桌游娱乐（狼人杀、剧本杀）', '地点': '娱乐室'}}}' metadata={'source': '/Users/apple/Documents/project/buddy/RAG/files/activity.json', 'seq_num': 5}\n",
      "page_content='{'title': '周六活动', 'content': {'9:00-10:00': {'活动': '自由活动', '地点': None}, '10:30-11:30': {'活动': '自由活动', '地点': None}, '14:00-15:00': {'活动': '自由活动', '地点': None}, '15:30-16:30': {'活动': '自由活动', '地点': None}}}' metadata={'source': '/Users/apple/Documents/project/buddy/RAG/files/activity.json', 'seq_num': 6}\n",
      "page_content='{'title': '周日活动', 'content': {'9:00-10:00': {'活动': '聚会/观看老电影', '地点': '影音室/大厅'}, '10:30-11:30': {'活动': '聚会/观看老电影', '地点': '影音室/大厅'}, '14:00-15:00': {'活动': '聚会/观看老电影', '地点': '影音室/大厅'}, '15:30-16:30': {'活动': '聚会/观看老电影', '地点': '影音室/大厅'}}}' metadata={'source': '/Users/apple/Documents/project/buddy/RAG/files/activity.json', 'seq_num': 7}\n"
     ]
    }
   ],
   "source": [
    "from langchain_community.document_loaders import JSONLoader\n",
    "import json\n",
    "from pathlib import Path\n",
    "\n",
    "file_path = \"/Users/apple/Documents/project/buddy/RAG/files/activity.json\"\n",
    "data = json.loads(Path(file_path).read_text())\n",
    "\n",
    "\n",
    "# def metadata_func(record: dict, metadata: dict) -> dict:\n",
    "#     metadata[\"title\"] = record.get(\"title\")\n",
    "#     return metadata\n",
    "\n",
    "\n",
    "def process_content(content):\n",
    "    return json.loads(content)\n",
    "\n",
    "\n",
    "loader = JSONLoader(\n",
    "    file_path=file_path,\n",
    "    jq_schema=\".[] | {title: .title, content: .content}\",\n",
    "    # content_key=\"content\",\n",
    "    text_content=False,\n",
    "    # metadata_func=metadata_func,\n",
    ")\n",
    "docs = loader.load()\n",
    "\n",
    "for doc in docs:\n",
    "    doc.page_content = process_content(doc.page_content)\n",
    "    print(doc)\n",
    "\n",
    "# https://python.langchain.com/v0.2/docs/integrations/document_loaders/json/"
   ]
  },
  {
   "cell_type": "code",
   "execution_count": 9,
   "metadata": {},
   "outputs": [
    {
     "name": "stdout",
     "output_type": "stream",
     "text": [
      "model_name: BAAI/bge-large-en-v1.5\n",
      "EMBEDDING_DIM: 1024\n",
      "MAX_SEQ_LENGTH: 512\n"
     ]
    }
   ],
   "source": [
    "from pymilvus import MilvusClient\n",
    "import time\n",
    "import torch\n",
    "from sentence_transformers import SentenceTransformer\n",
    "import numpy as np\n",
    "import torch.nn.functional as F\n",
    "\n",
    "\n",
    "# Initialize torch settings for device-agnostic code.\n",
    "N_GPU = torch.cuda.device_count()\n",
    "DEVICE = torch.device(\"cuda:N_GPU\" if torch.cuda.is_available() else \"cpu\")\n",
    "\n",
    "\n",
    "# Download the model from huggingface model hub.\n",
    "model_name = \"BAAI/bge-large-en-v1.5\"\n",
    "encoder = SentenceTransformer(model_name, device=DEVICE)\n",
    "\n",
    "\n",
    "# Get the model parameters and save for later.\n",
    "EMBEDDING_DIM = encoder.get_sentence_embedding_dimension()\n",
    "MAX_SEQ_LENGTH_IN_TOKENS = encoder.get_max_seq_length()\n",
    "\n",
    "\n",
    "# Inspect model parameters.\n",
    "print(f\"model_name: {model_name}\")\n",
    "print(f\"EMBEDDING_DIM: {EMBEDDING_DIM}\")\n",
    "print(f\"MAX_SEQ_LENGTH: {MAX_SEQ_LENGTH_IN_TOKENS}\")"
   ]
  },
  {
   "cell_type": "code",
   "execution_count": 13,
   "metadata": {},
   "outputs": [
    {
     "name": "stdout",
     "output_type": "stream",
     "text": [
      "Start inserting entities\n",
      "Milvus insert time for 7 vectors: 0.01 seconds\n"
     ]
    }
   ],
   "source": [
    "# from langchain.text_splitter import RecursiveCharacterTextSplitter\n",
    "\n",
    "\n",
    "# CHUNK_SIZE = 512\n",
    "# chunk_overlap = np.round(CHUNK_SIZE * 0.10, 0)\n",
    "# print(f\"chunk_size: {CHUNK_SIZE}, chunk_overlap: {chunk_overlap}\")\n",
    "\n",
    "\n",
    "# # Define the splitter.\n",
    "# child_splitter = RecursiveCharacterTextSplitter(\n",
    "#     chunk_size=CHUNK_SIZE, chunk_overlap=chunk_overlap\n",
    "# )\n",
    "\n",
    "\n",
    "# # Chunk the docs.\n",
    "# chunks = child_splitter.split_documents(docs)\n",
    "# print(f\"{len(docs)} docs split into {len(chunks)} child documents.\")\n",
    "\n",
    "\n",
    "# Encoder input is doc.page_content as strings.\n",
    "list_of_strings = [doc.page_content for doc in docs if hasattr(doc, \"page_content\")]\n",
    "\n",
    "\n",
    "# Embedding inference using HuggingFace encoder.\n",
    "embeddings = torch.tensor(encoder.encode(list_of_strings))\n",
    "\n",
    "\n",
    "# Normalize the embeddings.\n",
    "embeddings = np.array(embeddings / np.linalg.norm(embeddings, axis=1, keepdims=True))\n",
    "\n",
    "\n",
    "# Milvus expects a list of `numpy.ndarray` of `numpy.float32` numbers.\n",
    "converted_values = list(map(np.float32, embeddings))\n",
    "\n",
    "\n",
    "# Create dict_list for Milvus insertion.\n",
    "dict_list = []\n",
    "for doc, vector in zip(docs, converted_values):\n",
    "    # Assemble embedding vector, original text content, metadata.\n",
    "    chunk_dict = {\n",
    "        \"content\": doc.page_content,\n",
    "        \"source\": doc.metadata.get(\"source\", \"\"),\n",
    "        # \"title\": doc.metadata.get(\"title\", \"\"),\n",
    "        \"vector\": vector,\n",
    "    }\n",
    "    dict_list.append(chunk_dict)\n",
    "\n",
    "\n",
    "mc = MilvusClient(\"buddy.db\")\n",
    "\n",
    "# Create a collection with flexible schema and AUTOINDEX.\n",
    "COLLECTION_NAME = \"MilvusDocs\"\n",
    "mc.create_collection(\n",
    "    COLLECTION_NAME,\n",
    "    EMBEDDING_DIM,\n",
    "    consistency_level=\"Eventually\",\n",
    "    auto_id=True,\n",
    "    overwrite=True,\n",
    ")\n",
    "\n",
    "\n",
    "# Insert data into the Milvus collection.\n",
    "print(\"Start inserting entities\")\n",
    "start_time = time.time()\n",
    "mc.insert(COLLECTION_NAME, data=dict_list, progress_bar=True)\n",
    "\n",
    "\n",
    "end_time = time.time()\n",
    "print(f\"Milvus insert time for {len(dict_list)} vectors: \", end=\"\")\n",
    "print(f\"{round(end_time - start_time, 2)} seconds\")"
   ]
  },
  {
   "cell_type": "code",
   "execution_count": 14,
   "metadata": {},
   "outputs": [
    {
     "name": "stdout",
     "output_type": "stream",
     "text": [
      "[{'id': 452110790429769730, 'distance': 0.7258294820785522, 'entity': {'content': {'title': '周三活动', 'content': {'9:00-10:00': {'活动': '手指操', '地点': '大厅'}, '10:30-11:30': {'活动': '唱歌活动（合唱、独唱）', '地点': '音乐室'}, '14:00-15:00': {'活动': '烘焙活动（西式糕点：蛋挞）', '地点': '备餐间'}, '15:30-16:30': {'活动': '观看戏曲表演', '地点': '影音室/大厅'}}}, 'source': '/Users/apple/Documents/project/buddy/RAG/files/activity.json'}}, {'id': 452110809121161232, 'distance': 0.7258287668228149, 'entity': {'content': {'title': '周三活动', 'content': {'9:00-10:00': {'活动': '手指操', '地点': '大厅'}, '10:30-11:30': {'活动': '唱歌活动（合唱、独唱）', '地点': '音乐室'}, '14:00-15:00': {'活动': '烘焙活动（西式糕点：蛋挞）', '地点': '备餐间'}, '15:30-16:30': {'活动': '观看戏曲表演', '地点': '影音室/大厅'}}}, 'source': '/Users/apple/Documents/project/buddy/RAG/files/activity.json'}}]\n",
      "--------------------------------------------------\n"
     ]
    }
   ],
   "source": [
    "SAMPLE_QUESTION = \"周三有什么安排？\"\n",
    "\n",
    "# Embed the question using the same encoder.\n",
    "query_embeddings = torch.tensor(encoder.encode([SAMPLE_QUESTION]))\n",
    "# Normalize embeddings to unit length.\n",
    "query_embeddings = F.normalize(query_embeddings, p=2, dim=1)\n",
    "# Convert the embeddings to list of list of np.float32.\n",
    "query_embeddings = list(map(np.float32, query_embeddings))\n",
    "\n",
    "\n",
    "# Define metadata fields you can filter on.\n",
    "OUTPUT_FIELDS = list(dict_list[0].keys())\n",
    "OUTPUT_FIELDS.remove(\"vector\")\n",
    "\n",
    "# Define how many top-k results you want to retrieve.\n",
    "TOP_K = 2\n",
    "\n",
    "\n",
    "# Run semantic vector search using your query and the vector database.\n",
    "results = mc.search(\n",
    "    COLLECTION_NAME,\n",
    "    data=query_embeddings,\n",
    "    output_fields=OUTPUT_FIELDS,\n",
    "    limit=TOP_K,\n",
    "    consistency_level=\"Eventually\",\n",
    ")\n",
    "\n",
    "for result in results:\n",
    "    print(result)\n",
    "    print('-'*50)\n",
    "    "
   ]
  },
  {
   "cell_type": "code",
   "execution_count": null,
   "metadata": {},
   "outputs": [],
   "source": []
  }
 ],
 "metadata": {
  "kernelspec": {
   "display_name": "llm",
   "language": "python",
   "name": "python3"
  },
  "language_info": {
   "codemirror_mode": {
    "name": "ipython",
    "version": 3
   },
   "file_extension": ".py",
   "mimetype": "text/x-python",
   "name": "python",
   "nbconvert_exporter": "python",
   "pygments_lexer": "ipython3",
   "version": "3.10.14"
  }
 },
 "nbformat": 4,
 "nbformat_minor": 2
}
