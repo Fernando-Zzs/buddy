{
  "nbformat": 4,
  "nbformat_minor": 0,
  "metadata": {
    "colab": {
      "provenance": [],
      "mount_file_id": "1fygLxHmPZG2yKytBoOcwpfkShgi346gp",
      "authorship_tag": "ABX9TyPskWYFyHJFGWSkMnUZYVSj",
      "include_colab_link": true
    },
    "kernelspec": {
      "name": "python3",
      "display_name": "Python 3"
    },
    "language_info": {
      "name": "python"
    }
  },
  "cells": [
    {
      "cell_type": "markdown",
      "metadata": {
        "id": "view-in-github",
        "colab_type": "text"
      },
      "source": [
        "<a href=\"https://colab.research.google.com/github/Fernando-Zzs/buddy/blob/main/RAG/llama3_1.ipynb\" target=\"_parent\"><img src=\"https://colab.research.google.com/assets/colab-badge.svg\" alt=\"Open In Colab\"/></a>"
      ]
    },
    {
      "cell_type": "code",
      "execution_count": null,
      "metadata": {
        "id": "Ne7J4Hx5d05T"
      },
      "outputs": [],
      "source": [
        "# prompt: download llama3.1 8B instruct from huggingface\n",
        "\n",
        "!pip install huggingface_hub\n",
        "from huggingface_hub import hf_hub_download\n",
        "hf_hub_download(repo_id=\"Writer/camel-5b-hf\", filename=\"camel-5b-hf.Q4_K_M.gguf\")\n"
      ]
    }
  ]
}